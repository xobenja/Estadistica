{
 "cells": [
  {
   "cell_type": "markdown",
   "metadata": {
    "id": "QGewvbTigIjr"
   },
   "source": [
    "# Población, muestra y clasificación de variables"
   ]
  },
  {
   "cell_type": "markdown",
   "metadata": {
    "id": "GyIPdNBygRsa"
   },
   "source": [
    "## Objetivos:"
   ]
  },
  {
   "cell_type": "markdown",
   "metadata": {
    "id": "p_WVqL9ngVkS"
   },
   "source": [
    "Comprender y aplicar los conceptos de población, muestra y tipos de variables (cualitativas y cuantitativas) en contextos aplicados."
   ]
  },
  {
   "cell_type": "markdown",
   "metadata": {
    "id": "ihGHNoFkbdZg"
   },
   "source": [
    "*Nota: Este laboratorio está diseñado para desarrollar razonamiento estadístico. Evita el uso de herramientas de IA para responder las preguntas a menos que esto sea explícitamente sugerido* 🤖. *En su lugar, enfócate en aplicar los conceptos revisados.*"
   ]
  },
  {
   "cell_type": "markdown",
   "metadata": {
    "id": "z_-AIpGXgeVy"
   },
   "source": [
    "## Actividad 1"
   ]
  },
  {
   "cell_type": "markdown",
   "metadata": {
    "id": "d804NL9ngl2a"
   },
   "source": [
    "Una universidad realizó una encuesta a estudiantes de carreras de informática para conocer su comportamiento digital. Se consultaron variables como edad, red social preferida, horas promedio en redes al día, y nivel de satisfacción con su conexión a internet.\n",
    "\n",
    "Descarga la base de datos **<a href=\"https://docs.google.com/spreadsheets/d/15PDo62bGOsSoQUg2qIT8OOqe5Y1tJ53T/export?format=xlsx\n",
    "\">aquí</a>**.\n",
    "\n"
   ]
  },
  {
   "cell_type": "code",
   "execution_count": 5,
   "metadata": {},
   "outputs": [
    {
     "data": {
      "text/html": [
       "<div>\n",
       "<style scoped>\n",
       "    .dataframe tbody tr th:only-of-type {\n",
       "        vertical-align: middle;\n",
       "    }\n",
       "\n",
       "    .dataframe tbody tr th {\n",
       "        vertical-align: top;\n",
       "    }\n",
       "\n",
       "    .dataframe thead th {\n",
       "        text-align: right;\n",
       "    }\n",
       "</style>\n",
       "<table border=\"1\" class=\"dataframe\">\n",
       "  <thead>\n",
       "    <tr style=\"text-align: right;\">\n",
       "      <th></th>\n",
       "      <th>Edad</th>\n",
       "      <th>Red Social Preferida</th>\n",
       "      <th>Horas Promedio Diario</th>\n",
       "      <th>Nivel Satisfacción Internet</th>\n",
       "    </tr>\n",
       "  </thead>\n",
       "  <tbody>\n",
       "    <tr>\n",
       "      <th>0</th>\n",
       "      <td>24</td>\n",
       "      <td>X</td>\n",
       "      <td>1.0</td>\n",
       "      <td>Neutral</td>\n",
       "    </tr>\n",
       "    <tr>\n",
       "      <th>1</th>\n",
       "      <td>32</td>\n",
       "      <td>Snapchat</td>\n",
       "      <td>2.2</td>\n",
       "      <td>Satisfecho</td>\n",
       "    </tr>\n",
       "    <tr>\n",
       "      <th>2</th>\n",
       "      <td>28</td>\n",
       "      <td>LinkedIn</td>\n",
       "      <td>1.8</td>\n",
       "      <td>Insatisfecho</td>\n",
       "    </tr>\n",
       "    <tr>\n",
       "      <th>3</th>\n",
       "      <td>25</td>\n",
       "      <td>X</td>\n",
       "      <td>1.0</td>\n",
       "      <td>Neutral</td>\n",
       "    </tr>\n",
       "    <tr>\n",
       "      <th>4</th>\n",
       "      <td>24</td>\n",
       "      <td>Snapchat</td>\n",
       "      <td>2.5</td>\n",
       "      <td>Muy insatisfecho</td>\n",
       "    </tr>\n",
       "    <tr>\n",
       "      <th>...</th>\n",
       "      <td>...</td>\n",
       "      <td>...</td>\n",
       "      <td>...</td>\n",
       "      <td>...</td>\n",
       "    </tr>\n",
       "    <tr>\n",
       "      <th>295</th>\n",
       "      <td>25</td>\n",
       "      <td>LinkedIn</td>\n",
       "      <td>4.1</td>\n",
       "      <td>Satisfecho</td>\n",
       "    </tr>\n",
       "    <tr>\n",
       "      <th>296</th>\n",
       "      <td>29</td>\n",
       "      <td>TikTok</td>\n",
       "      <td>3.4</td>\n",
       "      <td>Muy insatisfecho</td>\n",
       "    </tr>\n",
       "    <tr>\n",
       "      <th>297</th>\n",
       "      <td>29</td>\n",
       "      <td>X</td>\n",
       "      <td>5.7</td>\n",
       "      <td>Satisfecho</td>\n",
       "    </tr>\n",
       "    <tr>\n",
       "      <th>298</th>\n",
       "      <td>22</td>\n",
       "      <td>X</td>\n",
       "      <td>0.7</td>\n",
       "      <td>Insatisfecho</td>\n",
       "    </tr>\n",
       "    <tr>\n",
       "      <th>299</th>\n",
       "      <td>24</td>\n",
       "      <td>TikTok</td>\n",
       "      <td>7.2</td>\n",
       "      <td>Muy satisfecho</td>\n",
       "    </tr>\n",
       "  </tbody>\n",
       "</table>\n",
       "<p>300 rows × 4 columns</p>\n",
       "</div>"
      ],
      "text/plain": [
       "     Edad Red Social Preferida  Horas Promedio Diario  \\\n",
       "0      24                    X                    1.0   \n",
       "1      32             Snapchat                    2.2   \n",
       "2      28             LinkedIn                    1.8   \n",
       "3      25                    X                    1.0   \n",
       "4      24             Snapchat                    2.5   \n",
       "..    ...                  ...                    ...   \n",
       "295    25             LinkedIn                    4.1   \n",
       "296    29               TikTok                    3.4   \n",
       "297    29                    X                    5.7   \n",
       "298    22                    X                    0.7   \n",
       "299    24               TikTok                    7.2   \n",
       "\n",
       "    Nivel Satisfacción Internet  \n",
       "0                       Neutral  \n",
       "1                    Satisfecho  \n",
       "2                  Insatisfecho  \n",
       "3                       Neutral  \n",
       "4              Muy insatisfecho  \n",
       "..                          ...  \n",
       "295                  Satisfecho  \n",
       "296            Muy insatisfecho  \n",
       "297                  Satisfecho  \n",
       "298                Insatisfecho  \n",
       "299              Muy satisfecho  \n",
       "\n",
       "[300 rows x 4 columns]"
      ]
     },
     "execution_count": 5,
     "metadata": {},
     "output_type": "execute_result"
    }
   ],
   "source": [
    "#como instalar pandas, abrir una terminal nueva y poner este codigo: pip install pandas\n",
    "import pandas as pd\n",
    "\n",
    "comportamiento_digital = pd.read_excel('basededatos/Encuesta_uso_redes.xlsx')\n",
    "comportamiento_digital\n"
   ]
  },
  {
   "cell_type": "markdown",
   "metadata": {
    "id": "zRadBB9jia0y"
   },
   "source": [
    "1. ¿Cuál es la población del estudio?"
   ]
  },
  {
   "cell_type": "code",
   "execution_count": null,
   "metadata": {},
   "outputs": [
    {
     "name": "stdout",
     "output_type": "stream",
     "text": [
      "La población del estudio es de 300\n"
     ]
    }
   ],
   "source": [
    "print(\"La población del estudio son los estudiantes de las carreras de informatica\")"
   ]
  },
  {
   "cell_type": "markdown",
   "metadata": {
    "id": "ZRsl9kZ9i-wZ"
   },
   "source": [
    "2. ¿Cuál es la muestra del estudio?"
   ]
  },
  {
   "cell_type": "code",
   "execution_count": 13,
   "metadata": {},
   "outputs": [
    {
     "name": "stdout",
     "output_type": "stream",
     "text": [
      "La muestra del estudio es de 300\n"
     ]
    }
   ],
   "source": [
    "print(\"La muestra del estudio es de\", comportamiento_digital.shape[0])"
   ]
  },
  {
   "cell_type": "markdown",
   "metadata": {
    "id": "oWo2wQwmhwvk"
   },
   "source": [
    "3. Muestra las primeras cinco filas y las últimas cinco filas del DataFrame."
   ]
  },
  {
   "cell_type": "code",
   "execution_count": 6,
   "metadata": {},
   "outputs": [
    {
     "data": {
      "text/html": [
       "<div>\n",
       "<style scoped>\n",
       "    .dataframe tbody tr th:only-of-type {\n",
       "        vertical-align: middle;\n",
       "    }\n",
       "\n",
       "    .dataframe tbody tr th {\n",
       "        vertical-align: top;\n",
       "    }\n",
       "\n",
       "    .dataframe thead th {\n",
       "        text-align: right;\n",
       "    }\n",
       "</style>\n",
       "<table border=\"1\" class=\"dataframe\">\n",
       "  <thead>\n",
       "    <tr style=\"text-align: right;\">\n",
       "      <th></th>\n",
       "      <th>Edad</th>\n",
       "      <th>Red Social Preferida</th>\n",
       "      <th>Horas Promedio Diario</th>\n",
       "      <th>Nivel Satisfacción Internet</th>\n",
       "    </tr>\n",
       "  </thead>\n",
       "  <tbody>\n",
       "    <tr>\n",
       "      <th>0</th>\n",
       "      <td>24</td>\n",
       "      <td>X</td>\n",
       "      <td>1.0</td>\n",
       "      <td>Neutral</td>\n",
       "    </tr>\n",
       "    <tr>\n",
       "      <th>1</th>\n",
       "      <td>32</td>\n",
       "      <td>Snapchat</td>\n",
       "      <td>2.2</td>\n",
       "      <td>Satisfecho</td>\n",
       "    </tr>\n",
       "    <tr>\n",
       "      <th>2</th>\n",
       "      <td>28</td>\n",
       "      <td>LinkedIn</td>\n",
       "      <td>1.8</td>\n",
       "      <td>Insatisfecho</td>\n",
       "    </tr>\n",
       "    <tr>\n",
       "      <th>3</th>\n",
       "      <td>25</td>\n",
       "      <td>X</td>\n",
       "      <td>1.0</td>\n",
       "      <td>Neutral</td>\n",
       "    </tr>\n",
       "    <tr>\n",
       "      <th>4</th>\n",
       "      <td>24</td>\n",
       "      <td>Snapchat</td>\n",
       "      <td>2.5</td>\n",
       "      <td>Muy insatisfecho</td>\n",
       "    </tr>\n",
       "  </tbody>\n",
       "</table>\n",
       "</div>"
      ],
      "text/plain": [
       "   Edad Red Social Preferida  Horas Promedio Diario  \\\n",
       "0    24                    X                    1.0   \n",
       "1    32             Snapchat                    2.2   \n",
       "2    28             LinkedIn                    1.8   \n",
       "3    25                    X                    1.0   \n",
       "4    24             Snapchat                    2.5   \n",
       "\n",
       "  Nivel Satisfacción Internet  \n",
       "0                     Neutral  \n",
       "1                  Satisfecho  \n",
       "2                Insatisfecho  \n",
       "3                     Neutral  \n",
       "4            Muy insatisfecho  "
      ]
     },
     "metadata": {},
     "output_type": "display_data"
    },
    {
     "data": {
      "text/html": [
       "<div>\n",
       "<style scoped>\n",
       "    .dataframe tbody tr th:only-of-type {\n",
       "        vertical-align: middle;\n",
       "    }\n",
       "\n",
       "    .dataframe tbody tr th {\n",
       "        vertical-align: top;\n",
       "    }\n",
       "\n",
       "    .dataframe thead th {\n",
       "        text-align: right;\n",
       "    }\n",
       "</style>\n",
       "<table border=\"1\" class=\"dataframe\">\n",
       "  <thead>\n",
       "    <tr style=\"text-align: right;\">\n",
       "      <th></th>\n",
       "      <th>Edad</th>\n",
       "      <th>Red Social Preferida</th>\n",
       "      <th>Horas Promedio Diario</th>\n",
       "      <th>Nivel Satisfacción Internet</th>\n",
       "    </tr>\n",
       "  </thead>\n",
       "  <tbody>\n",
       "    <tr>\n",
       "      <th>295</th>\n",
       "      <td>25</td>\n",
       "      <td>LinkedIn</td>\n",
       "      <td>4.1</td>\n",
       "      <td>Satisfecho</td>\n",
       "    </tr>\n",
       "    <tr>\n",
       "      <th>296</th>\n",
       "      <td>29</td>\n",
       "      <td>TikTok</td>\n",
       "      <td>3.4</td>\n",
       "      <td>Muy insatisfecho</td>\n",
       "    </tr>\n",
       "    <tr>\n",
       "      <th>297</th>\n",
       "      <td>29</td>\n",
       "      <td>X</td>\n",
       "      <td>5.7</td>\n",
       "      <td>Satisfecho</td>\n",
       "    </tr>\n",
       "    <tr>\n",
       "      <th>298</th>\n",
       "      <td>22</td>\n",
       "      <td>X</td>\n",
       "      <td>0.7</td>\n",
       "      <td>Insatisfecho</td>\n",
       "    </tr>\n",
       "    <tr>\n",
       "      <th>299</th>\n",
       "      <td>24</td>\n",
       "      <td>TikTok</td>\n",
       "      <td>7.2</td>\n",
       "      <td>Muy satisfecho</td>\n",
       "    </tr>\n",
       "  </tbody>\n",
       "</table>\n",
       "</div>"
      ],
      "text/plain": [
       "     Edad Red Social Preferida  Horas Promedio Diario  \\\n",
       "295    25             LinkedIn                    4.1   \n",
       "296    29               TikTok                    3.4   \n",
       "297    29                    X                    5.7   \n",
       "298    22                    X                    0.7   \n",
       "299    24               TikTok                    7.2   \n",
       "\n",
       "    Nivel Satisfacción Internet  \n",
       "295                  Satisfecho  \n",
       "296            Muy insatisfecho  \n",
       "297                  Satisfecho  \n",
       "298                Insatisfecho  \n",
       "299              Muy satisfecho  "
      ]
     },
     "metadata": {},
     "output_type": "display_data"
    }
   ],
   "source": [
    "display(comportamiento_digital.head(5))\n",
    "display(comportamiento_digital.tail(5))"
   ]
  },
  {
   "cell_type": "markdown",
   "metadata": {
    "id": "PW26klhEjK4p"
   },
   "source": [
    "4. Clasifica cada una de las variables presentes en el estudio."
   ]
  },
  {
   "cell_type": "markdown",
   "metadata": {},
   "source": [
    "Edad → Variable cuantitativa discreta (numérica, entera).\n",
    "\n",
    "Red Social Preferida → Variable cualitativa nominal (categorías sin orden).\n",
    "\n",
    "Horas Promedio Diario → Variable cuantitativa continua (números reales, con decimales).\n",
    "\n",
    "Nivel de Satisfacción con Internet → Variable cualitativa ordinal (categorías con orden: Muy insatisfecho → Insatisfecho → Neutral → Satisfecho → Muy satisfecho)."
   ]
  },
  {
   "cell_type": "markdown",
   "metadata": {
    "id": "k5Gb7KZ6jUuQ"
   },
   "source": [
    "5. ¿Por qué es importante distinguir entre tipos de variables al planificar un análisis estadístico?"
   ]
  },
  {
   "cell_type": "markdown",
   "metadata": {},
   "source": [
    "Porque el tipo de variable determina las técnicas estadísticas y gráficas que se pueden usar:\n",
    "\n",
    "Con variables cualitativas nominales/ordinales se usan tablas de frecuencias, gráficos de barras, gráficos de pastel.\n",
    "\n",
    "Con variables cuantitativas se aplican medidas de tendencia central (media, mediana), dispersión (varianza, desviación estándar), histogramas, etc.\n",
    "👉 Si no distinguimos los tipos, podríamos aplicar métodos incorrectos y obtener conclusiones inválidas."
   ]
  },
  {
   "cell_type": "markdown",
   "metadata": {
    "id": "etQUFJlEknKf"
   },
   "source": [
    "## Actividad 2"
   ]
  },
  {
   "cell_type": "markdown",
   "metadata": {
    "id": "ULG6c4aXkrnA"
   },
   "source": [
    "Una empresa de telecomunicaciones registró durante un semestre todos las problemas técnicos reportados por sus clientes. Se registraron variables como tipo de problema, tiempo de resolución, región y nivel de gravedad.\n",
    "\n",
    "Descarga la base de datos **<a href=\"https://docs.google.com/spreadsheets/d/1tgPbbtaf9svlo35Kjz8kf9z8gAu3o0yC/export?format=xlsx\n",
    "\">aquí</a>**."
   ]
  },
  {
   "cell_type": "markdown",
   "metadata": {
    "id": "3bNNsIlMlILk"
   },
   "source": [
    "1. ¿Cuál es la población del estudio?"
   ]
  },
  {
   "cell_type": "markdown",
   "metadata": {
    "id": "PEnaIZwBlILl"
   },
   "source": [
    "2. ¿Cuál es la muestra del estudio?"
   ]
  },
  {
   "cell_type": "markdown",
   "metadata": {
    "id": "UHxfMdUniTPp"
   },
   "source": [
    "3. Muestra las primeras cinco filas y las últimas cinco filas del DataFrame."
   ]
  },
  {
   "cell_type": "markdown",
   "metadata": {
    "id": "JHSZ7QuGlILl"
   },
   "source": [
    "4. Clasifica cada una de las variables presentes en el estudio."
   ]
  },
  {
   "cell_type": "markdown",
   "metadata": {
    "id": "2BY2noOMlXXv"
   },
   "source": [
    "5. Considera el siguiente gráfico que muestra la relación entre la gravedad de un problema y el tiempo promedio que tardan en resolverlo, luego responde: ¿Qué relación observas entre el nivel de gravedad del problema y el tiempo promedio que tardan en resolverlo? Justifica tu respuesta con base en el gráfico.\n",
    "\n",
    "<center>\n",
    "\n",
    "<img src = \"https://i.ibb.co/Z6qvTjnB/Captura-de-pantalla-2025-05-19-172338.png\" width = \"450\"/>"
   ]
  },
  {
   "cell_type": "markdown",
   "metadata": {
    "id": "hP9GycnLlbqn"
   },
   "source": [
    "6. ¿Qué problemas podría haber si clasificamos mal una variable al trabajar con datos?"
   ]
  },
  {
   "cell_type": "markdown",
   "metadata": {
    "id": "3Vi-wyKW8TV8"
   },
   "source": [
    "## Actividad 3"
   ]
  },
  {
   "cell_type": "markdown",
   "metadata": {
    "id": "iQiWY1FI8btc"
   },
   "source": [
    "El uso de la inteligencia artificial (IA) en la educación ha emergido como una poderosa herramienta para transformar los métodos de enseñanza en todo el mundo. Según el último Monitor Global de Educación de Ipsos, publicado en el mes de septiembre de 2023, queda claro que la percepción de la importancia de capacitar a los maestros en el uso de la IA varía significativamente de un país a otro. En general, un 65% de los encuestados en 29 países piensan que los docentes deberían recibir capacitación sobre cómo usar la IA en sus estrategias educativas.\n",
    "\n",
    "Fuente <a href=\"https://es.statista.com/grafico/30894/encuestados-que-consideran-esencial-que-maestros-se-capaciten-para-usar-ia-en-la-ensenanza/\">Statista: Inteligencia artificial: ¿importante en la enseñanza? </a>"
   ]
  },
  {
   "cell_type": "markdown",
   "metadata": {
    "id": "FlGulgyy-BS8"
   },
   "source": [
    "<img src = \"https://cdn.statcdn.com/Infographic/images/normal/30894.jpeg\" width = \"500\"/>"
   ]
  },
  {
   "cell_type": "markdown",
   "metadata": {
    "id": "Pz631nyY_0rX"
   },
   "source": [
    "1. ¿Cuál es la población considerada en este estudio?"
   ]
  },
  {
   "cell_type": "markdown",
   "metadata": {
    "id": "BiVXsdSTCECB"
   },
   "source": [
    "2. ¿Cuál es la muestra considerada en el estudio?"
   ]
  },
  {
   "cell_type": "markdown",
   "metadata": {
    "id": "XrUMV79VACEa"
   },
   "source": [
    "3. ¿Cuál es la variable presente en el estudio? Piensa en cuáles podrían ser los posibles valores de esta variable y clasifícala."
   ]
  },
  {
   "cell_type": "markdown",
   "metadata": {
    "id": "sa9q0tSHAHJW"
   },
   "source": [
    "4. ¿Qué significa que un país obtenga un menor puntaje?"
   ]
  },
  {
   "cell_type": "markdown",
   "metadata": {
    "id": "jvUkjlvoAJZa"
   },
   "source": [
    "5. Realice conclusiones que pueda extraer de la observación del gráfico."
   ]
  },
  {
   "cell_type": "markdown",
   "metadata": {
    "id": "rEHm3ASyARUq"
   },
   "source": [
    "## Actividad 4"
   ]
  },
  {
   "cell_type": "markdown",
   "metadata": {
    "id": "pWg5P-NFAcuq"
   },
   "source": [
    "En 2022, el mercado de audiolibros estuvo valorado en aproximadamente 5.365 millones de dólares estadounidenses. Se espera que el mercado siga en expansión, con una tasa de crecimiento anual compuesta de 26,3% entre 2023 y 2030, alcanzando un valor de alrededor de 35.000 millones de dólares en el último año.\n",
    "\n",
    "Fuente  <a href=\"https://es.statista.com/grafico/30959/encuestados-que-consumieron-audiolibros-en-los-ultimos-doce-meses/\">Statista: ¿Quiénes consumen audiolibros? </a>"
   ]
  },
  {
   "cell_type": "markdown",
   "metadata": {
    "id": "XlAMTpljA6Pq"
   },
   "source": [
    "<img src = \"https://cdn.statcdn.com/Infographic/images/normal/30959.jpeg\" width = \"500\"/>"
   ]
  },
  {
   "cell_type": "markdown",
   "metadata": {
    "id": "tKVG-A6MBCZr"
   },
   "source": [
    "1. ¿Cuál es la población estadística considerada en el estudio?"
   ]
  },
  {
   "cell_type": "markdown",
   "metadata": {
    "id": "BYzSy2I7BFa5"
   },
   "source": [
    "2. ¿Por qué la suma de los porcentajes no es igual a 100%?"
   ]
  },
  {
   "cell_type": "markdown",
   "metadata": {
    "id": "HTpsCpvSBUhC"
   },
   "source": [
    "3. Realice una conclusión breve de la información presentada."
   ]
  },
  {
   "cell_type": "markdown",
   "metadata": {
    "id": "EBnX45asBbZK"
   },
   "source": [
    "## Actividad 5"
   ]
  },
  {
   "cell_type": "markdown",
   "metadata": {
    "id": "FevVa1-fBflp"
   },
   "source": [
    "En una encuesta reciente realizada por Ipsos a más de 23.000 personas de 31 países, se han destacado las preocupaciones más apremiantes de los entrevistados en relación con el sistema de salud de su país.\n",
    "\n",
    "Fuente <a href=\"https://es.statista.com/grafico/31156/encuestados-que-creen-que-los-siguientes-son-los-mayores-problemas-del-sistema-sanitario-de-su-pais/\">Statista: Percepciones y desafíos de la salud pública </a>"
   ]
  },
  {
   "cell_type": "markdown",
   "metadata": {
    "id": "TNMqlyK8Bzr5"
   },
   "source": [
    "<img src = \"https://cdn.statcdn.com/Infographic/images/normal/31156.jpeg\" width = \"500\"/>"
   ]
  },
  {
   "cell_type": "markdown",
   "metadata": {
    "id": "z4hna9qhCMVw"
   },
   "source": [
    "1. ¿Cuál es la población considerada en este estudio?"
   ]
  },
  {
   "cell_type": "markdown",
   "metadata": {
    "id": "yS5CvEHJCMVw"
   },
   "source": [
    "2. ¿Cuál es la muestra considerada en el estudio?"
   ]
  },
  {
   "cell_type": "markdown",
   "metadata": {
    "id": "op-mXyW1CMVw"
   },
   "source": [
    "3. Identifique y clasifique la(s) variable(s) presente(s) en el estudio."
   ]
  },
  {
   "cell_type": "markdown",
   "metadata": {
    "id": "YKXfMeVwCRag"
   },
   "source": [
    "4. Realice una conclusión breve que pueda extraer de la observación del gráfico."
   ]
  }
 ],
 "metadata": {
  "colab": {
   "collapsed_sections": [
    "z_-AIpGXgeVy",
    "etQUFJlEknKf",
    "3Vi-wyKW8TV8",
    "rEHm3ASyARUq",
    "EBnX45asBbZK"
   ],
   "provenance": [
    {
     "file_id": "1w5sfQw-aVD_E6k8Hhn8429IzPLLOuJHo",
     "timestamp": 1747691697705
    }
   ]
  },
  "kernelspec": {
   "display_name": "Python 3",
   "name": "python3"
  },
  "language_info": {
   "codemirror_mode": {
    "name": "ipython",
    "version": 3
   },
   "file_extension": ".py",
   "mimetype": "text/x-python",
   "name": "python",
   "nbconvert_exporter": "python",
   "pygments_lexer": "ipython3",
   "version": "3.13.7"
  }
 },
 "nbformat": 4,
 "nbformat_minor": 0
}
