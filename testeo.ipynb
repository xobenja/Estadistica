{
 "cells": [
  {
   "cell_type": "code",
   "execution_count": null,
   "id": "e51f9734",
   "metadata": {},
   "outputs": [],
   "source": [
    "import pandas as pd\n",
    "\n",
    "conectados = pd.Series([3, 2, 4, 3, 2, 1, 4, 3, 3, 5,\n",
    "                2, 1, 3, 4, 2, 2, 3, 4, 1, 5,\n",
    "                3, 3, 2, 1, 3, 4, 5, 2, 3, 3])\n",
    "\n",
    "tamaño = 30\n",
    "frecuencias = conectados.value_counts().sort_index()\n",
    "tabla_frecuencias = pd.DataFrame({\n",
    "    'Frec. absoluta': frecuencias, # primera columna\n",
    "    'Frec. relativa (%)': (frecuencias/tamaño)*100, # segunda columna calculada\n",
    "    'Frec. abs. acumulada': frecuencias.cumsum(), # tercera columna calculada\n",
    "    'Frec. rel. acumulada (%)': (frecuencias.cumsum()/tamaño)*100, # cuarta columna calculada\n",
    "})\n",
    "\n",
    "tabla_frecuencias\n",
    "round(tabla_frecuencias,1)"
   ]
  },
  {
   "cell_type": "code",
   "execution_count": null,
   "id": "be296c3a",
   "metadata": {},
   "outputs": [],
   "source": [
    "#Importar librerías\n",
    "import pandas as pd\n",
    "\n",
    "Tabla = pd.Series([4, 3, 6, 4, 8],\n",
    " ['Rock', 'Heavy Metal', 'Pop', 'Reggaetón', 'Otros'])\n",
    "\n",
    "tamaño = 25\n",
    "tabla_frecuencias = pd.DataFrame({\n",
    "    'Frec. absoluta': Tabla, #primera columna\n",
    "    'Frec. relativa (%)': (Tabla/tamaño)*100, #segunda columna calculada\n",
    "})\n",
    "\n",
    "tabla_frecuencias"
   ]
  },
  {
   "cell_type": "code",
   "execution_count": null,
   "id": "aa287483",
   "metadata": {},
   "outputs": [],
   "source": [
    "# Importar librería\n",
    "import pandas as pd\n",
    "\n",
    "df_resumen = pd.read_excel('BBDD (Velocidad).xlsx')\n",
    "\n",
    "intervalos = 8\n",
    "\n",
    "# Vamos a agregar una nueva columna, con la función cut()\n",
    "df_resumen['Intervalos'] = pd.cut(df_resumen['Velocidad (Mbps)'], bins = intervalos, \n",
    "                                  precision = 1, include_lowest=True)\n",
    "\n",
    "# Frecuencias\n",
    "f = df_resumen.groupby('Intervalos').size()\n",
    "F = f.cumsum()\n",
    "h = (f/40)*100\n",
    "H = h.cumsum()\n",
    "\n",
    "# Armar el DataFrame\n",
    "tabla = pd.DataFrame({\n",
    "    'Frecuencia absoluta': f,\n",
    "    'Frecuencia relativa (%)': h,\n",
    "    'Frecuencia absoluta acumulada': F,\n",
    "    'Frecuencia relativa acumulada (%)': H\n",
    "})\n",
    "\n",
    "tabla"
   ]
  }
 ],
 "metadata": {
  "language_info": {
   "name": "python"
  }
 },
 "nbformat": 4,
 "nbformat_minor": 5
}
